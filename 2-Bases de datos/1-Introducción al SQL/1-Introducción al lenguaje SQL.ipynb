{
 "cells": [
  {
   "cell_type": "markdown",
   "metadata": {},
   "source": [
    "# Introducción a SQL\n",
    "***\n",
    "<div class=\"panel panel-danger\">\n",
    "    <div class='panel-heading'>\n",
    "    <h4>Antes de empezar</h4>\n",
    "    </div>\n",
    "    <div class='panel-body'>\n",
    "    <p>Para poder ejecutar queries a la base de datos, necesitamos tener instalado antes el paquete [ipython-sql](https://github.com/catherinedevlin/ipython-sql).\n",
    "    \n",
    "    <p>Este paquete nos permite escribir las queries sql en las celdas del notebook y visualizar el resultado como tablas html renderizadas\n",
    "    <p>Ejecuta `!pip install ipython-sql` si es la primera vez que usas este notebook\n",
    "    </div>\n",
    "</div>"
   ]
  },
  {
   "cell_type": "code",
   "execution_count": 1,
   "metadata": {},
   "outputs": [
    {
     "name": "stdout",
     "output_type": "stream",
     "text": [
      "Requirement already satisfied: ipython-sql in /home/juanito/anaconda3/lib/python3.6/site-packages\n",
      "Requirement already satisfied: prettytable in /home/juanito/anaconda3/lib/python3.6/site-packages (from ipython-sql)\n",
      "Requirement already satisfied: six in /home/juanito/anaconda3/lib/python3.6/site-packages (from ipython-sql)\n",
      "Requirement already satisfied: ipython-genutils>=0.1.0 in /home/juanito/anaconda3/lib/python3.6/site-packages (from ipython-sql)\n",
      "Requirement already satisfied: sqlparse in /home/juanito/anaconda3/lib/python3.6/site-packages (from ipython-sql)\n",
      "Requirement already satisfied: ipython>=1.0 in /home/juanito/anaconda3/lib/python3.6/site-packages (from ipython-sql)\n",
      "Requirement already satisfied: sqlalchemy>=0.6.7 in /home/juanito/anaconda3/lib/python3.6/site-packages (from ipython-sql)\n"
     ]
    }
   ],
   "source": [
    "!pip install ipython-sql"
   ]
  },
  {
   "cell_type": "markdown",
   "metadata": {},
   "source": [
    "Una vez instalado, podemos invocar el entorno `SQL` usando `%load_ext sql`.\n",
    "Esto nos permitira usar el magic de ipython `%%sql` al principo de **cada** celda y ejecutar comandos sql directamente"
   ]
  },
  {
   "cell_type": "code",
   "execution_count": 2,
   "metadata": {},
   "outputs": [
    {
     "name": "stdout",
     "output_type": "stream",
     "text": [
      "Done.\n"
     ]
    },
    {
     "data": {
      "text/html": [
       "<table>\n",
       "    <tr>\n",
       "        <th>name</th>\n",
       "    </tr>\n",
       "    <tr>\n",
       "        <td>estudiantes</td>\n",
       "    </tr>\n",
       "    <tr>\n",
       "        <td>asignaturas</td>\n",
       "    </tr>\n",
       "    <tr>\n",
       "        <td>notas</td>\n",
       "    </tr>\n",
       "</table>"
      ],
      "text/plain": [
       "[('estudiantes',), ('asignaturas',), ('notas',)]"
      ]
     },
     "execution_count": 2,
     "metadata": {},
     "output_type": "execute_result"
    }
   ],
   "source": [
    "# Esto carga el paquete instalado y nos conecta con la base de datos contenida en el fichero \"bdd_notas.sqlite\"\n",
    "%load_ext sql\n",
    "%sql sqlite:///bdd_notas.sqlite\n",
    "\n",
    "%sql SELECT name FROM sqlite_master WHERE type='table'"
   ]
  },
  {
   "cell_type": "markdown",
   "metadata": {},
   "source": [
    "<div class=\"panel panel-success\">\n",
    "    <div class='panel-heading'>\n",
    "    <h4>Empecemos</h4>\n",
    "    </div>\n",
    "</div>\n",
    "\n",
    "\n",
    "Los objetivos de este notebook son:\n",
    "\n",
    "1. Entender la sintaxis SQL básica\n",
    "2. Entender la diferencia entre \"inner\", “left”, “right” y “full” joins\n",
    "3. Entender groupings y como se conectan a las funciones de agregación\n",
    "4. Como ejecutar queries SQL y guardar los resultados en pandas.DataFrame()"
   ]
  },
  {
   "cell_type": "markdown",
   "metadata": {
    "collapsed": true
   },
   "source": [
    "# 1. SQL: sintaxis básica\n",
    "\n",
    "### Nombres clave:\n",
    "\n",
    "- Relational database\n",
    "- Table\n",
    "- Row\n",
    "- Column\n",
    "- (Primary key)\n",
    "- (Foreign key)\n",
    "\n",
    "### Verbos clave:\n",
    "\n",
    "* `CREATE TABLE`, `DROP TABLE`: Crear o eliminar tablas\n",
    "* <span style=\"color:green\">SELECT:</span>: Seleccionar las columnas deseadas de la tabla\n",
    "* `INSERT` / `UPDATE` / `DELETE`: para crear, modificar, o borrar filas de una tabla\n",
    "\n",
    "### Modificadores clave:\n",
    "* <span style=\"color:green\">WHERE</span>: imponer una condición/filtro sobre los valores de las columnas\n",
    "* <span style=\"color:green\">ORDER BY</span>: ordenar\n",
    "* <span style=\"color:green\">GROUP BY</span>: agregar los valores por un campo\n",
    "* <span style=\"color:green\">JOIN</span>: combinar tablas en una query\n",
    "* <span style=\"color:green\">HAVING</span>: impone una condición/filtro sobre valores agregados por el `GROUP BY`\n",
    "* <span style=\"color:green\">LIMIT</span>: el límite de valores que queremos sacar\n",
    "\n",
    "Las queries en SQL se ejecutan contra una base de datos combinando los diferentes verbos y los modificadores clave.\n",
    "\n",
    "Al principio de éste notebook nos hemos conectado a una base de datos de juguete para practicar como construir queries. Existen las siguientes columnas:\n",
    "\n",
    "Tablas|\n",
    ":--------:|\n",
    "estudiantes  | \n",
    "asignaturas | \n",
    "notas |\n",
    "\n",
    "**Nota final:**\n",
    "\n",
    "SQL no es sensible a las mayúsculas o minúsculas y a los cambios de linea y espacios.\n",
    "\n",
    "Por convenio, se usan mayusculas para las palabras clave y minusculas para el nombre de los campos o columnas.\n",
    "\n",
    "También es aconsejable usar una nueva linea para cada comando."
   ]
  },
  {
   "cell_type": "markdown",
   "metadata": {},
   "source": [
    "### 1. Seleccionar valores de columnas\n",
    "\n",
    "```SQL\n",
    "SELECT column_name1,\n",
    "       column_name2\n",
    "FROM table_name\n",
    "[LIMIT 100];\n",
    "```\n",
    "Si en SELECT indicamos un \\*, apareceran todas las columnas\n",
    "\n",
    "LIMIT va entre entre braquets para indicar un campo opcional"
   ]
  },
  {
   "cell_type": "code",
   "execution_count": 3,
   "metadata": {},
   "outputs": [
    {
     "name": "stdout",
     "output_type": "stream",
     "text": [
      "Done.\n"
     ]
    },
    {
     "data": {
      "text/html": [
       "<table>\n",
       "    <tr>\n",
       "        <th>student_id</th>\n",
       "        <th>name</th>\n",
       "    </tr>\n",
       "    <tr>\n",
       "        <td>101</td>\n",
       "        <td>Juan</td>\n",
       "    </tr>\n",
       "    <tr>\n",
       "        <td>102</td>\n",
       "        <td>Maria</td>\n",
       "    </tr>\n",
       "    <tr>\n",
       "        <td>103</td>\n",
       "        <td>Pedro</td>\n",
       "    </tr>\n",
       "</table>"
      ],
      "text/plain": [
       "[(101, 'Juan'), (102, 'Maria'), (103, 'Pedro')]"
      ]
     },
     "execution_count": 3,
     "metadata": {},
     "output_type": "execute_result"
    }
   ],
   "source": [
    "%%sql\n",
    "\n",
    "SELECT *\n",
    "FROM estudiantes\n",
    "LIMIT 3"
   ]
  },
  {
   "cell_type": "markdown",
   "metadata": {},
   "source": [
    "### Ejercicio 1: Devuelve todos los campos de la tabla `notas`. Limita la salida a 5 elementos"
   ]
  },
  {
   "cell_type": "code",
   "execution_count": 4,
   "metadata": {},
   "outputs": [
    {
     "name": "stdout",
     "output_type": "stream",
     "text": [
      "Done.\n"
     ]
    },
    {
     "data": {
      "text/html": [
       "<table>\n",
       "    <tr>\n",
       "        <th>asign_id</th>\n",
       "        <th>student_id</th>\n",
       "        <th>year</th>\n",
       "        <th>nota</th>\n",
       "    </tr>\n",
       "    <tr>\n",
       "        <td>201</td>\n",
       "        <td>103</td>\n",
       "        <td>2015</td>\n",
       "        <td>9.2</td>\n",
       "    </tr>\n",
       "    <tr>\n",
       "        <td>201</td>\n",
       "        <td>103</td>\n",
       "        <td>2016</td>\n",
       "        <td>7.3</td>\n",
       "    </tr>\n",
       "    <tr>\n",
       "        <td>201</td>\n",
       "        <td>103</td>\n",
       "        <td>2017</td>\n",
       "        <td>8.6</td>\n",
       "    </tr>\n",
       "    <tr>\n",
       "        <td>302</td>\n",
       "        <td>103</td>\n",
       "        <td>2015</td>\n",
       "        <td>7.3</td>\n",
       "    </tr>\n",
       "    <tr>\n",
       "        <td>302</td>\n",
       "        <td>103</td>\n",
       "        <td>2016</td>\n",
       "        <td>4.7</td>\n",
       "    </tr>\n",
       "</table>"
      ],
      "text/plain": [
       "[('201', '103', 2015, 9.2),\n",
       " ('201', '103', 2016, 7.3),\n",
       " ('201', '103', 2017, 8.6),\n",
       " ('302', '103', 2015, 7.3),\n",
       " ('302', '103', 2016, 4.7)]"
      ]
     },
     "execution_count": 4,
     "metadata": {},
     "output_type": "execute_result"
    }
   ],
   "source": [
    "%%sql\n",
    "\n",
    "SELECT *\n",
    "FROM notas\n",
    "LIMIT 5"
   ]
  },
  {
   "cell_type": "markdown",
   "metadata": {},
   "source": [
    "### Ejercicio 2: Devuelve todos los campos de la tabla `asignaturas`\n"
   ]
  },
  {
   "cell_type": "code",
   "execution_count": 5,
   "metadata": {},
   "outputs": [
    {
     "name": "stdout",
     "output_type": "stream",
     "text": [
      "Done.\n"
     ]
    },
    {
     "data": {
      "text/html": [
       "<table>\n",
       "    <tr>\n",
       "        <th>asign_id</th>\n",
       "        <th>asignatura</th>\n",
       "    </tr>\n",
       "    <tr>\n",
       "        <td>201</td>\n",
       "        <td>Mates</td>\n",
       "    </tr>\n",
       "    <tr>\n",
       "        <td>302</td>\n",
       "        <td>Física</td>\n",
       "    </tr>\n",
       "    <tr>\n",
       "        <td>211</td>\n",
       "        <td>Filosofía</td>\n",
       "    </tr>\n",
       "</table>"
      ],
      "text/plain": [
       "[(201, 'Mates'), (302, 'Física'), (211, 'Filosofía')]"
      ]
     },
     "execution_count": 5,
     "metadata": {},
     "output_type": "execute_result"
    }
   ],
   "source": [
    "%%sql\n",
    "\n",
    "SELECT *\n",
    "FROM asignaturas"
   ]
  },
  {
   "cell_type": "markdown",
   "metadata": {},
   "source": [
    "En SQL también podemos asignar nombres a columnas. Por ejemplo usando la palabre clave `as`.\n",
    "\n",
    "Dos de las expresiones básicas en SQL que podemos aplicar a los nombres de columnas son:\n",
    "\n",
    "`COUNT` : Nos devuelve un conteo de los elementos especificados por la query\n",
    "\n",
    "`DISTINCT`: elimina los duplicados\n",
    "\n",
    "Por ejemplo, si quisieramos saber cuantas filas tiene una tabla de nuestra base de datos podriamos ejecutar \n",
    "\n",
    "```sql\n",
    "SELECT COUNT(*) as num_rows\n",
    "FROM my_table\n",
    "```\n",
    "\n",
    "Y si quisieramos encontrar el número de elementos distintos de una columna, podríamos encadenar las expresiones:\n",
    "\n",
    "```sql\n",
    "SELECT COUNT(DISTINCT col_name) as unique_rows\n",
    "FROM my_table\n",
    "```"
   ]
  },
  {
   "cell_type": "markdown",
   "metadata": {},
   "source": [
    "### Ejercicio: Encuentra el numero de filas total de cada una de las tablas de la base de datos y asignales un nombre"
   ]
  },
  {
   "cell_type": "code",
   "execution_count": 6,
   "metadata": {},
   "outputs": [
    {
     "name": "stdout",
     "output_type": "stream",
     "text": [
      "Done.\n"
     ]
    },
    {
     "data": {
      "text/html": [
       "<table>\n",
       "    <tr>\n",
       "        <th>num_rows</th>\n",
       "    </tr>\n",
       "    <tr>\n",
       "        <td>3</td>\n",
       "    </tr>\n",
       "</table>"
      ],
      "text/plain": [
       "[(3,)]"
      ]
     },
     "execution_count": 6,
     "metadata": {},
     "output_type": "execute_result"
    }
   ],
   "source": [
    "%%sql\n",
    "\n",
    "SELECT COUNT(*) as num_rows \n",
    "FROM asignaturas"
   ]
  },
  {
   "cell_type": "code",
   "execution_count": 8,
   "metadata": {},
   "outputs": [
    {
     "name": "stdout",
     "output_type": "stream",
     "text": [
      "Done.\n"
     ]
    },
    {
     "data": {
      "text/html": [
       "<table>\n",
       "    <tr>\n",
       "        <th>num_rows</th>\n",
       "    </tr>\n",
       "    <tr>\n",
       "        <td>7</td>\n",
       "    </tr>\n",
       "</table>"
      ],
      "text/plain": [
       "[(7,)]"
      ]
     },
     "execution_count": 8,
     "metadata": {},
     "output_type": "execute_result"
    }
   ],
   "source": [
    "%%sql\n",
    "\n",
    "SELECT COUNT(*) as num_rows \n",
    "FROM estudiantes"
   ]
  },
  {
   "cell_type": "code",
   "execution_count": 9,
   "metadata": {},
   "outputs": [
    {
     "name": "stdout",
     "output_type": "stream",
     "text": [
      "Done.\n"
     ]
    },
    {
     "data": {
      "text/html": [
       "<table>\n",
       "    <tr>\n",
       "        <th>num_rows</th>\n",
       "    </tr>\n",
       "    <tr>\n",
       "        <td>16</td>\n",
       "    </tr>\n",
       "</table>"
      ],
      "text/plain": [
       "[(16,)]"
      ]
     },
     "execution_count": 9,
     "metadata": {},
     "output_type": "execute_result"
    }
   ],
   "source": [
    "%%sql\n",
    "\n",
    "SELECT COUNT(*) as num_rows \n",
    "FROM notas"
   ]
  },
  {
   "cell_type": "markdown",
   "metadata": {},
   "source": [
    "### Ejercicio: Cuantas notas distintas hay en la columna `nota` de la tabla `notas`?"
   ]
  },
  {
   "cell_type": "code",
   "execution_count": 12,
   "metadata": {},
   "outputs": [
    {
     "name": "stdout",
     "output_type": "stream",
     "text": [
      "Done.\n"
     ]
    },
    {
     "data": {
      "text/html": [
       "<table>\n",
       "    <tr>\n",
       "        <th>num_unique_nota</th>\n",
       "    </tr>\n",
       "    <tr>\n",
       "        <td>11</td>\n",
       "    </tr>\n",
       "</table>"
      ],
      "text/plain": [
       "[(11,)]"
      ]
     },
     "execution_count": 12,
     "metadata": {},
     "output_type": "execute_result"
    }
   ],
   "source": [
    "%%sql\n",
    "\n",
    "SELECT COUNT(DISTINCT nota) as num_unique_nota\n",
    "FROM notas"
   ]
  },
  {
   "cell_type": "markdown",
   "metadata": {},
   "source": [
    "## Filtrando y Ordenando los datos\n",
    "---\n",
    "Para poder filtrar según una condición que queramos imponer, por ejemplo las notas que sean menores que 5, debemos usar el modificador **`WHERE`** seguida de la condición que queremos poner sobre alguna de las columnas."
   ]
  },
  {
   "cell_type": "markdown",
   "metadata": {},
   "source": [
    "### Ejercicio: Cuanta gente ha suspendido?"
   ]
  },
  {
   "cell_type": "code",
   "execution_count": 16,
   "metadata": {},
   "outputs": [
    {
     "name": "stdout",
     "output_type": "stream",
     "text": [
      "Done.\n"
     ]
    },
    {
     "data": {
      "text/html": [
       "<table>\n",
       "    <tr>\n",
       "        <th>num_suspensos</th>\n",
       "    </tr>\n",
       "    <tr>\n",
       "        <td>4</td>\n",
       "    </tr>\n",
       "</table>"
      ],
      "text/plain": [
       "[(4,)]"
      ]
     },
     "execution_count": 16,
     "metadata": {},
     "output_type": "execute_result"
    }
   ],
   "source": [
    "%%sql\n",
    "\n",
    "SELECT COUNT(nota) as num_suspensos\n",
    "FROM notas\n",
    "WHERE nota < 5\n",
    "\n"
   ]
  },
  {
   "cell_type": "markdown",
   "metadata": {},
   "source": [
    "Además de filtrar, podemos definir el orden con el que queremos que nos devuelva los datos, ascendente o descendente. Combinado con el LIMIT, esto nos permitirá responder a preguntas tipo cual es el Top 5 o cual es la segunda mejor nota.\n",
    "\n",
    "Por ejemplo, la query:\n",
    "\n",
    "```sql\n",
    "SELECT year, nota\n",
    "from notas\n",
    "WHERE year = '2015'\n",
    "ORDER BY nota DESC\n",
    "LIMIT 1\n",
    "```\n",
    "Nos devolverá la mejor nota del año 2015."
   ]
  },
  {
   "cell_type": "markdown",
   "metadata": {},
   "source": [
    "### Ejercicio: Encuentra la peor nota del año 2017"
   ]
  },
  {
   "cell_type": "code",
   "execution_count": 22,
   "metadata": {},
   "outputs": [
    {
     "name": "stdout",
     "output_type": "stream",
     "text": [
      "Done.\n"
     ]
    },
    {
     "data": {
      "text/html": [
       "<table>\n",
       "    <tr>\n",
       "        <th>year</th>\n",
       "        <th>nota</th>\n",
       "    </tr>\n",
       "    <tr>\n",
       "        <td>2017</td>\n",
       "        <td>6</td>\n",
       "    </tr>\n",
       "</table>"
      ],
      "text/plain": [
       "[(2017, 6)]"
      ]
     },
     "execution_count": 22,
     "metadata": {},
     "output_type": "execute_result"
    }
   ],
   "source": [
    "%%sql\n",
    "\n",
    "SELECT year, nota\n",
    "from notas\n",
    "WHERE year = '2017'\n",
    "ORDER BY nota ASC\n",
    "LIMIT 1"
   ]
  },
  {
   "cell_type": "markdown",
   "metadata": {},
   "source": [
    "A la hora de trabajar con campos no numéricos, strings, podemos filtrar mediante LIKE. Con el podremos comparar cadenas y subcadenas de caracteres. Para poder especificar un inicio o un final abierto, usaremos '%' en el lugar de la cadena que queramos. Por ejemplo\n",
    "\n",
    "```sql\n",
    "WHERE name LIKE('J%')\n",
    "```\n",
    "\n",
    "Nos devolvería todos los elementos de la columna `name` que empiecen por J, mientras que:\n",
    "\n",
    "```sql\n",
    "WHERE name LIKE('%S')\n",
    "```\n",
    "Nos devolvería todos los nombres que acaban por S.\n",
    "\n",
    "Finalmente,\n",
    "\n",
    "```sql\n",
    "WHERE name LIKE('%er%')\n",
    "```\n",
    "Nos devolvería aquellos nombres que contuvieran la subcadena `er` en cualquier lugar de la cadena"
   ]
  },
  {
   "cell_type": "markdown",
   "metadata": {},
   "source": [
    "### Ejercicio: Encuentra todos los estudiantes que contienen una `a` en el nombre"
   ]
  },
  {
   "cell_type": "code",
   "execution_count": 23,
   "metadata": {},
   "outputs": [
    {
     "name": "stdout",
     "output_type": "stream",
     "text": [
      "Done.\n"
     ]
    },
    {
     "data": {
      "text/html": [
       "<table>\n",
       "    <tr>\n",
       "        <th>name</th>\n",
       "    </tr>\n",
       "    <tr>\n",
       "        <td>Juan</td>\n",
       "    </tr>\n",
       "    <tr>\n",
       "        <td>Maria</td>\n",
       "    </tr>\n",
       "    <tr>\n",
       "        <td>Ana</td>\n",
       "    </tr>\n",
       "    <tr>\n",
       "        <td>Susana</td>\n",
       "    </tr>\n",
       "    <tr>\n",
       "        <td>Raimundo</td>\n",
       "    </tr>\n",
       "</table>"
      ],
      "text/plain": [
       "[('Juan',), ('Maria',), ('Ana',), ('Susana',), ('Raimundo',)]"
      ]
     },
     "execution_count": 23,
     "metadata": {},
     "output_type": "execute_result"
    }
   ],
   "source": [
    "%%sql\n",
    "\n",
    "SELECT name\n",
    "FROM estudiantes\n",
    "WHERE name LIKE('%a%')\n"
   ]
  },
  {
   "cell_type": "markdown",
   "metadata": {},
   "source": [
    "## Condicionales\n",
    "SQL permite usar logica condicional sencilla. Es el equivalente a una expresión condicional `if-else`.\n",
    "\n",
    "Se utiliza después del SELECT e iniciandolo con la palabra clave `CASE`. Después de abrir el condicional, deberemos explicitar las diferentes opciones usando la notación `WHEN` this `THEN` that.\n",
    "\n",
    "Cuando queramos agrupar las opciones restantes, podemos hacerlo con `ELSE` something. \n",
    "\n",
    "Para cerrar el condicional, deberemos explicitarlo con `END` seguido de un alias para la columna condicional que acabamos de crear.\n",
    "\n",
    "Veamos un ejemplo sencillo en el que crearemos una columna para la gente que haya aprobado/suspendido.\n",
    "\n",
    "```sql\n",
    "SELECT asign_id,\n",
    "       CASE\n",
    "       WHEN nota < 5 THEN 'suspenso'\n",
    "       ELSE \"aprobado\"\n",
    "       END as \"estado_asignatura\"\n",
    "FROM notas\n",
    "```"
   ]
  },
  {
   "cell_type": "markdown",
   "metadata": {},
   "source": [
    "#### Ejercicio: Copia y pega la expresión anterior y verifica que funciona. Modifica la función de tal forma que la gente que haya sacado más de un 8 obtenga el valor `matricula`"
   ]
  },
  {
   "cell_type": "code",
   "execution_count": 26,
   "metadata": {},
   "outputs": [
    {
     "name": "stdout",
     "output_type": "stream",
     "text": [
      "Done.\n"
     ]
    },
    {
     "data": {
      "text/html": [
       "<table>\n",
       "    <tr>\n",
       "        <th>asign_id</th>\n",
       "        <th>nota</th>\n",
       "        <th>estado_asignatura</th>\n",
       "    </tr>\n",
       "    <tr>\n",
       "        <td>201</td>\n",
       "        <td>9.2</td>\n",
       "        <td>matricula</td>\n",
       "    </tr>\n",
       "    <tr>\n",
       "        <td>201</td>\n",
       "        <td>7.3</td>\n",
       "        <td>aprobado</td>\n",
       "    </tr>\n",
       "    <tr>\n",
       "        <td>201</td>\n",
       "        <td>8.6</td>\n",
       "        <td>matricula</td>\n",
       "    </tr>\n",
       "    <tr>\n",
       "        <td>302</td>\n",
       "        <td>7.3</td>\n",
       "        <td>aprobado</td>\n",
       "    </tr>\n",
       "    <tr>\n",
       "        <td>302</td>\n",
       "        <td>4.7</td>\n",
       "        <td>suspenso</td>\n",
       "    </tr>\n",
       "    <tr>\n",
       "        <td>302</td>\n",
       "        <td>6.5</td>\n",
       "        <td>aprobado</td>\n",
       "    </tr>\n",
       "    <tr>\n",
       "        <td>211</td>\n",
       "        <td>8.5</td>\n",
       "        <td>matricula</td>\n",
       "    </tr>\n",
       "    <tr>\n",
       "        <td>211</td>\n",
       "        <td>8.3</td>\n",
       "        <td>matricula</td>\n",
       "    </tr>\n",
       "    <tr>\n",
       "        <td>211</td>\n",
       "        <td>7.2</td>\n",
       "        <td>aprobado</td>\n",
       "    </tr>\n",
       "    <tr>\n",
       "        <td>201</td>\n",
       "        <td>2</td>\n",
       "        <td>suspenso</td>\n",
       "    </tr>\n",
       "    <tr>\n",
       "        <td>201</td>\n",
       "        <td>3</td>\n",
       "        <td>suspenso</td>\n",
       "    </tr>\n",
       "    <tr>\n",
       "        <td>201</td>\n",
       "        <td>6</td>\n",
       "        <td>aprobado</td>\n",
       "    </tr>\n",
       "    <tr>\n",
       "        <td>302</td>\n",
       "        <td>7.3</td>\n",
       "        <td>aprobado</td>\n",
       "    </tr>\n",
       "    <tr>\n",
       "        <td>302</td>\n",
       "        <td>4.7</td>\n",
       "        <td>suspenso</td>\n",
       "    </tr>\n",
       "    <tr>\n",
       "        <td>302</td>\n",
       "        <td>6.5</td>\n",
       "        <td>aprobado</td>\n",
       "    </tr>\n",
       "    <tr>\n",
       "        <td>211</td>\n",
       "        <td>8.5</td>\n",
       "        <td>matricula</td>\n",
       "    </tr>\n",
       "</table>"
      ],
      "text/plain": [
       "[('201', 9.2, 'matricula'),\n",
       " ('201', 7.3, 'aprobado'),\n",
       " ('201', 8.6, 'matricula'),\n",
       " ('302', 7.3, 'aprobado'),\n",
       " ('302', 4.7, 'suspenso'),\n",
       " ('302', 6.5, 'aprobado'),\n",
       " ('211', 8.5, 'matricula'),\n",
       " ('211', 8.3, 'matricula'),\n",
       " ('211', 7.2, 'aprobado'),\n",
       " ('201', 2, 'suspenso'),\n",
       " ('201', 3, 'suspenso'),\n",
       " ('201', 6, 'aprobado'),\n",
       " ('302', 7.3, 'aprobado'),\n",
       " ('302', 4.7, 'suspenso'),\n",
       " ('302', 6.5, 'aprobado'),\n",
       " ('211', 8.5, 'matricula')]"
      ]
     },
     "execution_count": 26,
     "metadata": {},
     "output_type": "execute_result"
    }
   ],
   "source": [
    "%%sql\n",
    "\n",
    "SELECT asign_id, nota,\n",
    "       CASE\n",
    "       WHEN nota < 5 THEN 'suspenso'\n",
    "       WHEN nota > 8 THEN 'matricula'\n",
    "       ELSE \"aprobado\"\n",
    "       END as \"estado_asignatura\"\n",
    "FROM notas"
   ]
  },
  {
   "cell_type": "markdown",
   "metadata": {},
   "source": [
    "#### Ejercicio: Añade un filtro a la expresión anterior de forma que solo nos de las notas de la asignatura de mates (id: 201) y ordenadas por el año de menor a mayor"
   ]
  },
  {
   "cell_type": "code",
   "execution_count": 27,
   "metadata": {},
   "outputs": [
    {
     "name": "stdout",
     "output_type": "stream",
     "text": [
      "Done.\n"
     ]
    },
    {
     "data": {
      "text/html": [
       "<table>\n",
       "    <tr>\n",
       "        <th>asign_id</th>\n",
       "        <th>year</th>\n",
       "        <th>nota</th>\n",
       "        <th>estado_asignatura</th>\n",
       "    </tr>\n",
       "    <tr>\n",
       "        <td>201</td>\n",
       "        <td>2015</td>\n",
       "        <td>9.2</td>\n",
       "        <td>matricula</td>\n",
       "    </tr>\n",
       "    <tr>\n",
       "        <td>201</td>\n",
       "        <td>2015</td>\n",
       "        <td>2</td>\n",
       "        <td>suspenso</td>\n",
       "    </tr>\n",
       "    <tr>\n",
       "        <td>201</td>\n",
       "        <td>2016</td>\n",
       "        <td>7.3</td>\n",
       "        <td>aprobado</td>\n",
       "    </tr>\n",
       "    <tr>\n",
       "        <td>201</td>\n",
       "        <td>2016</td>\n",
       "        <td>3</td>\n",
       "        <td>suspenso</td>\n",
       "    </tr>\n",
       "    <tr>\n",
       "        <td>201</td>\n",
       "        <td>2017</td>\n",
       "        <td>8.6</td>\n",
       "        <td>matricula</td>\n",
       "    </tr>\n",
       "    <tr>\n",
       "        <td>201</td>\n",
       "        <td>2017</td>\n",
       "        <td>6</td>\n",
       "        <td>aprobado</td>\n",
       "    </tr>\n",
       "</table>"
      ],
      "text/plain": [
       "[('201', 2015, 9.2, 'matricula'),\n",
       " ('201', 2015, 2, 'suspenso'),\n",
       " ('201', 2016, 7.3, 'aprobado'),\n",
       " ('201', 2016, 3, 'suspenso'),\n",
       " ('201', 2017, 8.6, 'matricula'),\n",
       " ('201', 2017, 6, 'aprobado')]"
      ]
     },
     "execution_count": 27,
     "metadata": {},
     "output_type": "execute_result"
    }
   ],
   "source": [
    "%%sql\n",
    "\n",
    "SELECT asign_id,\n",
    "       year,\n",
    "       nota,\n",
    "       CASE\n",
    "       WHEN nota < 5 THEN 'suspenso'\n",
    "       WHEN nota > 8 THEN 'matricula'\n",
    "       ELSE \"aprobado\"\n",
    "       END as \"estado_asignatura\"\n",
    "FROM notas\n",
    "WHERE asign_id = 201\n",
    "ORDER BY year ASC\n"
   ]
  },
  {
   "cell_type": "markdown",
   "metadata": {},
   "source": [
    "## Agregaciones: `GROUP BY`\n",
    "   \n",
    "Finalmente, SQL también nos permite agrupar columnas usando distintas formas de agregación.\n",
    "\n",
    "Con tal de poder usarlas, debemos espedificar en el `GROUP BY col1, col2` las columnas de la tabla que mencionamos en el `SELECT` que queremos agrupar. Esto implica dar una agrupación a alguna de las columnas restantes.\n",
    "\n",
    "Las más frecuentes son:\n",
    "* COUNT()\n",
    "* SUM()\n",
    "* AVG()\n",
    "* MIN()\n",
    "* MAX()\n",
    "   \n",
    "Por ejemplo,\n",
    "\n",
    "```SQL \n",
    "SELECT asign_id,\n",
    "       AVG(nota) as nota_media\n",
    "FROM notas\n",
    "GROUP BY asign_id;\n",
    "```\n",
    "Nos devolvería la nota media de cada una de las asignaturas."
   ]
  },
  {
   "cell_type": "markdown",
   "metadata": {},
   "source": [
    "### Ejercicio: Cómo han evolucionado la nota máxima, mínima y media de cada asignatura a lo largo de los últimos años?"
   ]
  },
  {
   "cell_type": "code",
   "execution_count": 29,
   "metadata": {},
   "outputs": [
    {
     "name": "stdout",
     "output_type": "stream",
     "text": [
      "Done.\n"
     ]
    },
    {
     "data": {
      "text/html": [
       "<table>\n",
       "    <tr>\n",
       "        <th>asign_id</th>\n",
       "        <th>year</th>\n",
       "        <th>min_nota</th>\n",
       "        <th>max_nota</th>\n",
       "        <th>avg_nota</th>\n",
       "    </tr>\n",
       "    <tr>\n",
       "        <td>201</td>\n",
       "        <td>2015</td>\n",
       "        <td>2</td>\n",
       "        <td>9.2</td>\n",
       "        <td>5.6</td>\n",
       "    </tr>\n",
       "    <tr>\n",
       "        <td>201</td>\n",
       "        <td>2016</td>\n",
       "        <td>3</td>\n",
       "        <td>7.3</td>\n",
       "        <td>5.15</td>\n",
       "    </tr>\n",
       "    <tr>\n",
       "        <td>201</td>\n",
       "        <td>2017</td>\n",
       "        <td>6</td>\n",
       "        <td>8.6</td>\n",
       "        <td>7.3</td>\n",
       "    </tr>\n",
       "    <tr>\n",
       "        <td>211</td>\n",
       "        <td>2015</td>\n",
       "        <td>8.5</td>\n",
       "        <td>8.5</td>\n",
       "        <td>8.5</td>\n",
       "    </tr>\n",
       "    <tr>\n",
       "        <td>211</td>\n",
       "        <td>2016</td>\n",
       "        <td>8.3</td>\n",
       "        <td>8.3</td>\n",
       "        <td>8.3</td>\n",
       "    </tr>\n",
       "    <tr>\n",
       "        <td>211</td>\n",
       "        <td>2017</td>\n",
       "        <td>7.2</td>\n",
       "        <td>7.2</td>\n",
       "        <td>7.2</td>\n",
       "    </tr>\n",
       "    <tr>\n",
       "        <td>302</td>\n",
       "        <td>2015</td>\n",
       "        <td>7.3</td>\n",
       "        <td>7.3</td>\n",
       "        <td>7.3</td>\n",
       "    </tr>\n",
       "    <tr>\n",
       "        <td>302</td>\n",
       "        <td>2016</td>\n",
       "        <td>4.7</td>\n",
       "        <td>4.7</td>\n",
       "        <td>4.7</td>\n",
       "    </tr>\n",
       "    <tr>\n",
       "        <td>302</td>\n",
       "        <td>2017</td>\n",
       "        <td>6.5</td>\n",
       "        <td>6.5</td>\n",
       "        <td>6.5</td>\n",
       "    </tr>\n",
       "</table>"
      ],
      "text/plain": [
       "[('201', 2015, 2, 9.2, 5.6),\n",
       " ('201', 2016, 3, 7.3, 5.15),\n",
       " ('201', 2017, 6, 8.6, 7.3),\n",
       " ('211', 2015, 8.5, 8.5, 8.5),\n",
       " ('211', 2016, 8.3, 8.3, 8.3),\n",
       " ('211', 2017, 7.2, 7.2, 7.2),\n",
       " ('302', 2015, 7.3, 7.3, 7.3),\n",
       " ('302', 2016, 4.7, 4.7, 4.7),\n",
       " ('302', 2017, 6.5, 6.5, 6.5)]"
      ]
     },
     "execution_count": 29,
     "metadata": {},
     "output_type": "execute_result"
    }
   ],
   "source": [
    "%%sql\n",
    "\n",
    "SELECT asign_id,\n",
    "       year,\n",
    "       MIN(nota) as min_nota,\n",
    "       MAX(nota) as max_nota,\n",
    "       AVG(nota) as avg_nota\n",
    "FROM notas\n",
    "GROUP BY asign_id, year"
   ]
  },
  {
   "cell_type": "markdown",
   "metadata": {},
   "source": [
    "## Filtrando datos agregados\n",
    "\n",
    "Así como podemos imponer condiciones de filtrado sobre columnas de nuestro `SELECT`, podemos especificar condiciones de filtrado para nuestros campos agregados.\n",
    "\n",
    "Por ejemplo, si quisieramos listar aquellas asignaturas que tienen una media superior a 6, deberíamos añadir\n",
    "\n",
    "```sql\n",
    "HAVING AVG(nota) > 6\n",
    "```\n",
    "\n",
    "A nuestra query, que quedaría:\n",
    "\n",
    "```sql\n",
    "SELECT asign_id, AVG(nota) as nota_media\n",
    "from notas\n",
    "GROUP BY asign_id\n",
    "HAVING AVG(nota) > 6\n",
    "```"
   ]
  },
  {
   "cell_type": "markdown",
   "metadata": {},
   "source": [
    "##### Ejercicio: Cual es el codigo de las asignaturas que tuvieron una nota media de aprobado en el año 2016"
   ]
  },
  {
   "cell_type": "code",
   "execution_count": 32,
   "metadata": {},
   "outputs": [
    {
     "name": "stdout",
     "output_type": "stream",
     "text": [
      "Done.\n"
     ]
    },
    {
     "data": {
      "text/html": [
       "<table>\n",
       "    <tr>\n",
       "        <th>year</th>\n",
       "        <th>asign_id</th>\n",
       "        <th>nota_media</th>\n",
       "    </tr>\n",
       "    <tr>\n",
       "        <td>2016</td>\n",
       "        <td>201</td>\n",
       "        <td>5.15</td>\n",
       "    </tr>\n",
       "    <tr>\n",
       "        <td>2016</td>\n",
       "        <td>211</td>\n",
       "        <td>8.3</td>\n",
       "    </tr>\n",
       "</table>"
      ],
      "text/plain": [
       "[(2016, '201', 5.15), (2016, '211', 8.3)]"
      ]
     },
     "execution_count": 32,
     "metadata": {},
     "output_type": "execute_result"
    }
   ],
   "source": [
    "%%sql\n",
    "\n",
    "SELECT year, asign_id, AVG(nota) as nota_media\n",
    "FROM notas\n",
    "WHERE year = 2016\n",
    "GROUP BY asign_id\n",
    "HAVING nota_media > 5"
   ]
  },
  {
   "cell_type": "markdown",
   "metadata": {},
   "source": [
    "# RESUMEN\n",
    "\n",
    "En resumen, la query básica para leer datos de **Una** tabla de nuestra base de datos sería:\n",
    "\n",
    "```SQL\n",
    "SELECT expression1, expression2, ...\n",
    "FROM table_name\n",
    "[WHERE condition]\n",
    "[GROUP BY columns]\n",
    "[HAVING condition]\n",
    "[ORDER BY columns]\n",
    "[LIMIT number];\n",
    "```"
   ]
  },
  {
   "cell_type": "markdown",
   "metadata": {},
   "source": [
    "# Combinando tablas: joins\n",
    "\n",
    "Hasta ahora, hemos visto como hacer consultas básicas a tablas de forma independiente, no está mal, pero es bastante aburrido y laborioso.\n",
    "\n",
    "Imagina que queremos encontrar quién es el/la mejor estudiante. Podríamos obtener esta información consultando la tabla notas, pero, cómo saber el nombre? En ese caso, deberiamos consultar en la base de datos la tabla que contiene el id del estudiante y filtrar por aquel id que nos haya devuelto la query anterior.\n",
    "\n",
    "Esto puede hacerse de forma programática usando los `joins` de sql. Esta opción nos permite combinar información de distintas tablas y hacer consultas sobre este nuevo conjunto. Por supuesto, podríamos hacer esto y guardar los resultados en una nueva tabla, pero la habilidad de poder combinar tablas \"al vuelo\" nos permite un ahorro de memoria y redundancia de datos.\n",
    "\n",
    "La imagen siguiente muestra un resumen visual de los distintos joins que existen y la sintaxis de como obtenerlos.\n",
    "\n",
    "\n",
    "<img src='img/sql-joins.jpg'>\n",
    "\n",
    "La diferencia básica entre los distintos `joins` es como gestiona la ausencia de datos de una tabla en la otra.\n",
    "\n",
    "Por ejemplo si tenemos las tablas siguientes con los colores favoritos de nuestros amigos :\n",
    "\n",
    " sweater_color | price \n",
    ":-------------:|:-----:\n",
    "      rojo      | 59.99 \n",
    "    amarillo     | 49.99 \n",
    "     azul      | 79.99 \n",
    "    verde     | 89.99 \n",
    "\n",
    "   name   |  city   | favorite_color \n",
    ":--------:|:-------:|:--------------:\n",
    "  Juan    | Inca |     amarillo     \n",
    " Maria    | Palma |     rojo\n",
    " Pedro | Campanet | marron\n",
    "\n",
    "Un inner join nos devolveria la intersección de las dos, es decir:\n",
    "\n",
    "\n",
    "   name   |  city   | favorite_color| price\n",
    ":--------:|:-------:|:--------------:|----\n",
    "  Juan    | Inca |     amarillo | 49.99 \n",
    " Maria    | Palma |     rojo | 59.99\n",
    " \n",
    " Hay que tener en cuenta que los joins son direccionales, es decir que la primera tabla que se especifica es aquella que tiene preferencia.\n",
    " \n",
    "Por ejemplo, si hacemos un left join de la tabla de personas sobre la de precios, en los campos donde no hubiera precios nos aparecería un NULL.\n",
    " \n",
    "   name   |  city   | favorite_color| price\n",
    ":--------:|:-------:|:--------------:|----\n",
    "  Juan    | Inca |     amarillo | 49.99 \n",
    " Maria    | Palma |     rojo | 59.99\n",
    "  Pedro | Campanet | marron | NULL\n",
    "\n",
    "\n",
    "En sintaxis sql, esto se escribiría:\n",
    "\n",
    "```sql\n",
    "SELECT f.name,\n",
    "       p.price\n",
    "FROM friends as f\n",
    "LEFT JOIN prices as p\n",
    "ON f.favorite_color = p.sweater_color\n",
    "```"
   ]
  },
  {
   "cell_type": "markdown",
   "metadata": {},
   "source": [
    "#### Ejercicio: Haz un left join de la tabla de alumnos a la de notas y selecciona las columnas name, year y nota"
   ]
  },
  {
   "cell_type": "code",
   "execution_count": 35,
   "metadata": {},
   "outputs": [
    {
     "name": "stdout",
     "output_type": "stream",
     "text": [
      "Done.\n"
     ]
    },
    {
     "data": {
      "text/html": [
       "<table>\n",
       "    <tr>\n",
       "        <th>name</th>\n",
       "        <th>year</th>\n",
       "        <th>nota</th>\n",
       "    </tr>\n",
       "    <tr>\n",
       "        <td>Pedro</td>\n",
       "        <td>2015</td>\n",
       "        <td>9.2</td>\n",
       "    </tr>\n",
       "    <tr>\n",
       "        <td>Pedro</td>\n",
       "        <td>2016</td>\n",
       "        <td>7.3</td>\n",
       "    </tr>\n",
       "    <tr>\n",
       "        <td>Pedro</td>\n",
       "        <td>2017</td>\n",
       "        <td>8.6</td>\n",
       "    </tr>\n",
       "    <tr>\n",
       "        <td>Pedro</td>\n",
       "        <td>2015</td>\n",
       "        <td>7.3</td>\n",
       "    </tr>\n",
       "    <tr>\n",
       "        <td>Pedro</td>\n",
       "        <td>2016</td>\n",
       "        <td>4.7</td>\n",
       "    </tr>\n",
       "    <tr>\n",
       "        <td>Pedro</td>\n",
       "        <td>2017</td>\n",
       "        <td>6.5</td>\n",
       "    </tr>\n",
       "    <tr>\n",
       "        <td>Pedro</td>\n",
       "        <td>2015</td>\n",
       "        <td>8.5</td>\n",
       "    </tr>\n",
       "    <tr>\n",
       "        <td>Pedro</td>\n",
       "        <td>2016</td>\n",
       "        <td>8.3</td>\n",
       "    </tr>\n",
       "    <tr>\n",
       "        <td>Pedro</td>\n",
       "        <td>2017</td>\n",
       "        <td>7.2</td>\n",
       "    </tr>\n",
       "    <tr>\n",
       "        <td>Ana</td>\n",
       "        <td>2015</td>\n",
       "        <td>2</td>\n",
       "    </tr>\n",
       "    <tr>\n",
       "        <td>Ana</td>\n",
       "        <td>2016</td>\n",
       "        <td>3</td>\n",
       "    </tr>\n",
       "    <tr>\n",
       "        <td>Ana</td>\n",
       "        <td>2017</td>\n",
       "        <td>6</td>\n",
       "    </tr>\n",
       "    <tr>\n",
       "        <td>Pedro</td>\n",
       "        <td>2015</td>\n",
       "        <td>7.3</td>\n",
       "    </tr>\n",
       "    <tr>\n",
       "        <td>Susana</td>\n",
       "        <td>2016</td>\n",
       "        <td>4.7</td>\n",
       "    </tr>\n",
       "    <tr>\n",
       "        <td>Susana</td>\n",
       "        <td>2017</td>\n",
       "        <td>6.5</td>\n",
       "    </tr>\n",
       "    <tr>\n",
       "        <td>Susana</td>\n",
       "        <td>2015</td>\n",
       "        <td>8.5</td>\n",
       "    </tr>\n",
       "</table>"
      ],
      "text/plain": [
       "[('Pedro', 2015, 9.2),\n",
       " ('Pedro', 2016, 7.3),\n",
       " ('Pedro', 2017, 8.6),\n",
       " ('Pedro', 2015, 7.3),\n",
       " ('Pedro', 2016, 4.7),\n",
       " ('Pedro', 2017, 6.5),\n",
       " ('Pedro', 2015, 8.5),\n",
       " ('Pedro', 2016, 8.3),\n",
       " ('Pedro', 2017, 7.2),\n",
       " ('Ana', 2015, 2),\n",
       " ('Ana', 2016, 3),\n",
       " ('Ana', 2017, 6),\n",
       " ('Pedro', 2015, 7.3),\n",
       " ('Susana', 2016, 4.7),\n",
       " ('Susana', 2017, 6.5),\n",
       " ('Susana', 2015, 8.5)]"
      ]
     },
     "execution_count": 35,
     "metadata": {},
     "output_type": "execute_result"
    }
   ],
   "source": [
    "%%sql\n",
    "\n",
    "SELECT e.name,\n",
    "       n.year,\n",
    "       n.nota\n",
    "FROM estudiantes as e\n",
    "INNER JOIN notas as n\n",
    "ON e.student_id = n.student_id"
   ]
  },
  {
   "cell_type": "markdown",
   "metadata": {},
   "source": [
    "#### Ejercicio: Quien es el mejor alumno del año 2017"
   ]
  },
  {
   "cell_type": "code",
   "execution_count": 37,
   "metadata": {},
   "outputs": [
    {
     "name": "stdout",
     "output_type": "stream",
     "text": [
      "Done.\n"
     ]
    },
    {
     "data": {
      "text/html": [
       "<table>\n",
       "    <tr>\n",
       "        <th>name</th>\n",
       "        <th>nota_media</th>\n",
       "    </tr>\n",
       "    <tr>\n",
       "        <td>Pedro</td>\n",
       "        <td>7.433333333333334</td>\n",
       "    </tr>\n",
       "</table>"
      ],
      "text/plain": [
       "[('Pedro', 7.433333333333334)]"
      ]
     },
     "execution_count": 37,
     "metadata": {},
     "output_type": "execute_result"
    }
   ],
   "source": [
    "%%sql\n",
    "\n",
    "SELECT e.name, AVG(n.nota) as nota_media\n",
    "FROM estudiantes as e\n",
    "INNER JOIN notas as n\n",
    "ON e.student_id = n.student_id\n",
    "WHERE n.year = 2017\n",
    "GROUP BY e.name\n",
    "ORDER BY nota_media DESC\n",
    "\n",
    "\n"
   ]
  },
  {
   "cell_type": "markdown",
   "metadata": {},
   "source": [
    "##### Ejercicio: Cual es la asignatura que tiene peor nota media de todas"
   ]
  },
  {
   "cell_type": "code",
   "execution_count": null,
   "metadata": {
    "collapsed": true
   },
   "outputs": [],
   "source": []
  },
  {
   "cell_type": "markdown",
   "metadata": {},
   "source": [
    "##### Ejercicio: Que estudiantes tienen una nota media menor que 5. Agrupalo por años."
   ]
  },
  {
   "cell_type": "code",
   "execution_count": null,
   "metadata": {
    "collapsed": true
   },
   "outputs": [],
   "source": []
  },
  {
   "cell_type": "markdown",
   "metadata": {},
   "source": [
    "# Un caramelo: pandas\n",
    "\n",
    "Ahora que ya sabemos realizar queries a bases de datos, con las que podemos filtrar y agregar, cómo podemos realizar un análisis más exhaustivo de los datos obtenidos?\n",
    "\n",
    "Python permite connectarse a bases de datos de una forma sencilla y guardar los resultados en un formato que nos gusta a todos, los pandas.DataFrame()\n",
    "\n",
    "Para poder conectarnos a nuestra base de datos, necesitaremos las librerias específicas, las más conocidas son:\n",
    "\n",
    "* sqlite3: para pequeñas bases de datos\n",
    "* sqlalchemy: se comunica con casi todo\n",
    "* psycopg2: Postgres, redshift (aws)\n",
    "\n",
    "Para ejecutar una query desde pandas, se deberá crear una conexión y pasar la query de forma:\n",
    "\n",
    "```python\n",
    "import pandas as pd\n",
    "import sqlite3\n",
    "\n",
    "conn = sqlite3.connect('bdd_notas.sqlite')\n",
    "query = \"\"\"SELECT * from asignaturas\"\"\"\n",
    "df = pd.read_sql(query, conn)\n",
    "```\n",
    "\n",
    "De forma similar, podemos crear una tabla a partir de un dataframe de forma sencilla, por ejemplo desde un csv:\n",
    "\n",
    "```python\n",
    "import pandas as pd\n",
    "import sqlite3\n",
    "\n",
    "conn = sqlite3.connect('my_bdd.sqlite')\n",
    "df = pd.read_csv(\"some_data.csv\n",
    "df.to_sql('table_name', conn, if_exists='replace', index=False)\n",
    "```"
   ]
  },
  {
   "cell_type": "markdown",
   "metadata": {},
   "source": [
    "#### Ejercicio: Repite el último ejercicio y guarda los resultados en un dataframe de pandas"
   ]
  },
  {
   "cell_type": "code",
   "execution_count": 38,
   "metadata": {
    "collapsed": true
   },
   "outputs": [],
   "source": [
    "import pandas as pd\n",
    "import sqlite3\n",
    "\n",
    "conn = sqlite3.connect('bdd_notas.sqlite')\n",
    "query = \"\"\"\n",
    "SELECT e.name, AVG(n.nota) as nota_media\n",
    "FROM estudiantes as e\n",
    "INNER JOIN notas as n\n",
    "ON e.student_id = n.student_id\n",
    "WHERE n.year = 2017\n",
    "GROUP BY e.name\n",
    "ORDER BY nota_media DESC\n",
    "\n",
    "\"\"\"\n",
    "\n",
    "df = pd.read_sql(query, conn)"
   ]
  },
  {
   "cell_type": "code",
   "execution_count": 39,
   "metadata": {},
   "outputs": [
    {
     "data": {
      "text/html": [
       "<div>\n",
       "<style>\n",
       "    .dataframe thead tr:only-child th {\n",
       "        text-align: right;\n",
       "    }\n",
       "\n",
       "    .dataframe thead th {\n",
       "        text-align: left;\n",
       "    }\n",
       "\n",
       "    .dataframe tbody tr th {\n",
       "        vertical-align: top;\n",
       "    }\n",
       "</style>\n",
       "<table border=\"1\" class=\"dataframe\">\n",
       "  <thead>\n",
       "    <tr style=\"text-align: right;\">\n",
       "      <th></th>\n",
       "      <th>name</th>\n",
       "      <th>nota_media</th>\n",
       "    </tr>\n",
       "  </thead>\n",
       "  <tbody>\n",
       "    <tr>\n",
       "      <th>0</th>\n",
       "      <td>Pedro</td>\n",
       "      <td>7.433333</td>\n",
       "    </tr>\n",
       "    <tr>\n",
       "      <th>1</th>\n",
       "      <td>Susana</td>\n",
       "      <td>6.500000</td>\n",
       "    </tr>\n",
       "    <tr>\n",
       "      <th>2</th>\n",
       "      <td>Ana</td>\n",
       "      <td>6.000000</td>\n",
       "    </tr>\n",
       "  </tbody>\n",
       "</table>\n",
       "</div>"
      ],
      "text/plain": [
       "     name  nota_media\n",
       "0   Pedro    7.433333\n",
       "1  Susana    6.500000\n",
       "2     Ana    6.000000"
      ]
     },
     "execution_count": 39,
     "metadata": {},
     "output_type": "execute_result"
    }
   ],
   "source": [
    "df"
   ]
  },
  {
   "cell_type": "markdown",
   "metadata": {},
   "source": [
    "\n",
    "### Más info:\n",
    "\n",
    "SQL:\n",
    "\n",
    "http://www.w3schools.com/sql/default.asp\n",
    "\n",
    "http://www.w3schools.com/sql/sql_quickref.asp\n",
    "\n",
    "Relational databases and the normal forms:\n",
    "\n",
    "http://en.wikipedia.org/wiki/Database_normalization#Normal_forms\n",
    "    "
   ]
  }
 ],
 "metadata": {
  "kernelspec": {
   "display_name": "Python 3",
   "language": "python",
   "name": "python3"
  },
  "language_info": {
   "codemirror_mode": {
    "name": "ipython",
    "version": 3
   },
   "file_extension": ".py",
   "mimetype": "text/x-python",
   "name": "python",
   "nbconvert_exporter": "python",
   "pygments_lexer": "ipython3",
   "version": "3.6.1"
  }
 },
 "nbformat": 4,
 "nbformat_minor": 2
}
