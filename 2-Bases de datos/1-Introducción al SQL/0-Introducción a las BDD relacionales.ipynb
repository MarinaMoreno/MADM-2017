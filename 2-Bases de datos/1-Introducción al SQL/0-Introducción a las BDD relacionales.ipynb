{
 "cells": [
  {
   "cell_type": "code",
   "execution_count": null,
   "metadata": {
    "slideshow": {
     "slide_type": "skip"
    }
   },
   "outputs": [
    {
     "name": "stdout",
     "output_type": "stream",
     "text": [
      "[NbConvertApp] Converting notebook Introducción a las BDD relacionales.ipynb to slides\n",
      "[NbConvertApp] Writing 259465 bytes to Introducción a las BDD relacionales.slides.html\n",
      "[NbConvertApp] Redirecting reveal.js requests to https://cdnjs.cloudflare.com/ajax/libs/reveal.js/3.1.0\n",
      "Serving your slides at http://127.0.0.1:8000/Introducción a las BDD relacionales.slides.html\n",
      "Use Control-C to stop this server\n",
      "\n",
      "(google-chrome-stable:2076): Gtk-WARNING **: Theme parsing error: gtk-widgets.css:23:18: not a number\n",
      "\n",
      "(google-chrome-stable:2076): Gtk-WARNING **: Theme parsing error: gtk-widgets.css:23:18: Expected a string.\n",
      "\n",
      "(google-chrome-stable:2076): Gtk-WARNING **: Theme parsing error: gtk-widgets.css:815:10: not a number\n",
      "\n",
      "(google-chrome-stable:2076): Gtk-WARNING **: Theme parsing error: gtk-widgets.css:815:24: Using Pango syntax for the font: style property is deprecated; please use CSS syntax\n",
      "\n",
      "(google-chrome-stable:2076): Gtk-WARNING **: Theme parsing error: gtk-widgets.css:1953:14: not a number\n",
      "\n",
      "(google-chrome-stable:2076): Gtk-WARNING **: Theme parsing error: gtk-widgets.css:1953:14: Expected a string.\n",
      "\n",
      "(google-chrome-stable:2076): Gtk-WARNING **: Theme parsing error: nautilus.css:50:71: Using one color stop with linear-gradient() is deprecated.\n",
      "\n",
      "(google-chrome-stable:2076): Gtk-WARNING **: Theme parsing error: nautilus.css:51:71: Using one color stop with linear-gradient() is deprecated.\n",
      "\n",
      "(google-chrome-stable:2076): Gtk-WARNING **: Theme parsing error: gtk-lubuntu.css:252:14: not a number\n",
      "\n",
      "(google-chrome-stable:2076): Gtk-WARNING **: Theme parsing error: gtk-lubuntu.css:252:14: Expected a string.\n",
      "Se ha abierto una nueva ventana en la sesión actual del navegador.\n",
      "WARNING:tornado.access:404 GET /custom.css (127.0.0.1) 1.16ms\n",
      "WARNING:tornado.access:404 GET /custom.css (127.0.0.1) 1.00ms\n",
      "WARNING:tornado.access:404 GET /favicon.ico (127.0.0.1) 1.22ms\n"
     ]
    }
   ],
   "source": [
    "!jupyter nbconvert \"Introducción a las BDD relacionales.ipynb\" --to slides --post serve"
   ]
  },
  {
   "cell_type": "markdown",
   "metadata": {
    "slideshow": {
     "slide_type": "slide"
    }
   },
   "source": [
    "# Bases de datos Relacionales y SQL"
   ]
  },
  {
   "cell_type": "markdown",
   "metadata": {
    "slideshow": {
     "slide_type": "slide"
    }
   },
   "source": [
    "# <center>BDD relacionales</center>\n",
    "![logo](img/databaselogo.png)"
   ]
  },
  {
   "cell_type": "markdown",
   "metadata": {
    "slideshow": {
     "slide_type": "slide"
    }
   },
   "source": [
    "# Qué es una BDD relacional?\n",
    "\n",
    "* Es una **recopilación** de **elementos** de datos con **relaciones predefinidas** entre ellos.\n",
    "\n",
    "* Los elementos se organizan como un **conjunto de tablas** con **columnas** y **filas**\n",
    "\n",
    "* Las **tablas** se utilizan para guardar **información** sobre los objetos que se van a representar **en la base de datos**."
   ]
  },
  {
   "cell_type": "markdown",
   "metadata": {
    "slideshow": {
     "slide_type": "slide"
    }
   },
   "source": [
    "## Tablas\n",
    "\n",
    "<img src=\"img/tabla.jpg\" width=300>\n",
    "\n",
    "* Cada **columna** de una tabla guarda un **determinado tipo de datos**\n",
    "\n",
    "* Un **campo** de la columna **almacena** el valor **real** de un atributo.\n",
    "\n",
    "* Las **filas** de la tabla representan una **recopilación** de **valores** relacionados de un objeto o entidad.\n",
    "\n",
    "* Cada **fila** de una tabla podría marcarse con un **identificador único** denominado **clave principal** (en inglés, primary key o PK), mientras que filas de varias tablas pueden relacionarse con **claves extranjeras** (en inglés, foreign key, o FK)."
   ]
  },
  {
   "cell_type": "markdown",
   "metadata": {
    "slideshow": {
     "slide_type": "slide"
    }
   },
   "source": [
    "## Primary Key and Foreign Key\n",
    "\n",
    "### Primary key\n",
    "\n",
    "Consiste en los valores de una o más columnas que se usán para identificar de forma univoca cada una de las filas contenidas en la tabla.\n",
    "\n",
    "### Foreign key\n",
    "\n",
    "Es un conjunto de una o más columnas de una tabla a las que hace referencia la PK de otra tabla.\n",
    "\n",
    "\n"
   ]
  },
  {
   "cell_type": "markdown",
   "metadata": {
    "slideshow": {
     "slide_type": "slide"
    }
   },
   "source": [
    "## Diagrama de BDD\n",
    "\n",
    "* El campo primario de cada tabla se indica con un asterisco \\*\n",
    "* Se puede especificar o no el FK.\n",
    "\n",
    "![Diagrama](img/customers_orders_tables.png)\n",
    "\n"
   ]
  },
  {
   "cell_type": "markdown",
   "metadata": {
    "slideshow": {
     "slide_type": "slide"
    }
   },
   "source": [
    "## Diagrama de Relación de Entidades\n",
    "\n",
    "* Se pinta la estructura de la base de datos como un diagrama  qu permite representar las entidades relevantes de un sistema de información así como sus interrelaciones y propiedades.\n",
    "\n",
    "* Las entidades se dibujan como puntos, poligonos, círculos u ovalos. Son el equivalente gramatical de nombres, tipo empleados, clientes, departamentos...Una entidad se define por sus atributos\n",
    "\n",
    "* Las relaciones entre las distintas entidades son el equivalente a los verbos que pueden realizar éstas, tipo comprar, ser miembro de un departamento, ... Las relaciones se definen en función del número de entidades que se asocian con ellas.\n",
    "\n",
    "* Todo diagrama ER tiene una tabla relacional equivalente y viceversa"
   ]
  },
  {
   "cell_type": "markdown",
   "metadata": {
    "slideshow": {
     "slide_type": "slide"
    }
   },
   "source": [
    "![Diagrama](img/er-legend.jpg)"
   ]
  },
  {
   "cell_type": "markdown",
   "metadata": {
    "slideshow": {
     "slide_type": "slide"
    }
   },
   "source": [
    "![tipossql](img/sql-tipos.jpg)"
   ]
  },
  {
   "cell_type": "markdown",
   "metadata": {
    "slideshow": {
     "slide_type": "slide"
    }
   },
   "source": [
    "![sqlhadoop](img/sqlhadoop.png)"
   ]
  },
  {
   "cell_type": "markdown",
   "metadata": {
    "slideshow": {
     "slide_type": "slide"
    }
   },
   "source": [
    "# <center>Structured Query Language</center>\n",
    "\n",
    "![sql](img/sqldatabase.png)"
   ]
  },
  {
   "cell_type": "markdown",
   "metadata": {
    "slideshow": {
     "slide_type": "slide"
    }
   },
   "source": [
    "* SQL es un lenguaje formal para comunicarse con una base de datos\n",
    "\n",
    "* Permite articular de forma precisa qué información queremos obtener de una colección de tablas de una base de datos\n",
    "\n",
    "* Con pequeñas diferencias, sirve como interfaz para diferentes proveedores de bases de datos"
   ]
  }
 ],
 "metadata": {
  "celltoolbar": "Slideshow",
  "kernelspec": {
   "display_name": "Python 3",
   "language": "python",
   "name": "python3"
  },
  "language_info": {
   "codemirror_mode": {
    "name": "ipython",
    "version": 3
   },
   "file_extension": ".py",
   "mimetype": "text/x-python",
   "name": "python",
   "nbconvert_exporter": "python",
   "pygments_lexer": "ipython3",
   "version": "3.6.1"
  }
 },
 "nbformat": 4,
 "nbformat_minor": 2
}
